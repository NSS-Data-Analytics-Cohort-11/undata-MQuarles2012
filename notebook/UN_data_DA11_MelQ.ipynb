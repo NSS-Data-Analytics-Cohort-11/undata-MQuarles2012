{
 "cells": [
  {
   "cell_type": "markdown",
   "id": "8fe5bc9c-cdea-40df-a457-c167b3586c90",
   "metadata": {},
   "source": [
    "### Packages:"
   ]
  },
  {
   "cell_type": "code",
   "execution_count": 1,
   "id": "f5b2879f-6f44-48c7-a970-397befa0fdc8",
   "metadata": {},
   "outputs": [],
   "source": [
    "import pandas as pd\n",
    "import numpy as np  \n",
    "import matplotlib.pyplot as plt  \n",
    "import seaborn as sns"
   ]
  },
  {
   "cell_type": "markdown",
   "id": "121cebd9-2637-4edf-8b5d-f728268bc163",
   "metadata": {},
   "source": [
    "# Instructions: "
   ]
  },
  {
   "cell_type": "markdown",
   "id": "a589e1eb-26ec-4b7b-8d7f-3a2408724681",
   "metadata": {},
   "source": [
    "1. Create a `data` folder in your local project repository.  \n",
    "2. Download these two CSV files and place them in the data folder:\n",
    "\n",
    "    a.\tGross Domestic Product (GDP) per capita http://data.un.org/Data.aspx?d=WDI&f=Indicator_Code%3aNY.GDP.PCAP.PP.KD **DO NOT APPLY ANY FILTERS**\n",
    "     - rename the file to `gdp_percapita.csv`\n",
    "     - open it with a text editor (**not excel**) and take a look\n",
    "\n",
    "    b.\tPercentage of Individuals using the Internet http://data.un.org/Data.aspx?d=ITU&f=ind1Code%3aI99H  **DO NOT APPLY ANY FILTERS**\n",
    "     - rename the file to `internet_use.csv`\n",
    "     - open it with a text editor (**not excel**) and take a look\n",
    "\n",
    "2.\tCreate a `notebooks` folder and launch a Jupyter Notebook in this folder. Give it a meaningful name.  \n",
    " - **IMPORTANT:**  You are likely to get errors along the way. When you do, read the errors to try to understand what is happening and how to correct it.\n",
    "  - Use markdown cells to record your answers to any questions asked in this exercise. On the menu bar, you can toggle the cell type from `Code` to `Markdown`.\n",
    "3.\tImport the required packages with their customary aliases as follows:\n",
    "\n",
    "    `import pandas as pd`   \n",
    "    `import numpy as np`  \n",
    "    `import matplotlib.pyplot as plt`  \n",
    "    `import seaborn as sns`"
   ]
  },
  {
   "cell_type": "markdown",
   "id": "9892825c-9119-495e-8f21-76e73e238ba5",
   "metadata": {},
   "source": [
    "# Questions: "
   ]
  },
  {
   "cell_type": "markdown",
   "id": "0bfa9d52-4f31-4985-bb94-6a09d7739c0e",
   "metadata": {},
   "source": [
    "## Q4"
   ]
  },
  {
   "cell_type": "markdown",
   "id": "185d8dc0-9562-4c00-81ea-2b43efee4761",
   "metadata": {},
   "source": [
    "4.\tUsing the pandas `read_csv()` method, read the GDP dataset into your notebook as a DataFrame called `gdp_df`. Take a look at the first few and last few rows to familiarize yourself with what is contained in this dataset.\n"
   ]
  },
  {
   "cell_type": "markdown",
   "id": "25b02c04-dfd2-477d-b4bc-1df539d1cc6e",
   "metadata": {},
   "source": [
    "## Answer:"
   ]
  },
  {
   "cell_type": "code",
   "execution_count": 22,
   "id": "1e74a2b9-3a87-401d-92c2-dd5f616a1c4a",
   "metadata": {},
   "outputs": [
    {
     "data": {
      "text/html": [
       "<div>\n",
       "<style scoped>\n",
       "    .dataframe tbody tr th:only-of-type {\n",
       "        vertical-align: middle;\n",
       "    }\n",
       "\n",
       "    .dataframe tbody tr th {\n",
       "        vertical-align: top;\n",
       "    }\n",
       "\n",
       "    .dataframe thead th {\n",
       "        text-align: right;\n",
       "    }\n",
       "</style>\n",
       "<table border=\"1\" class=\"dataframe\">\n",
       "  <thead>\n",
       "    <tr style=\"text-align: right;\">\n",
       "      <th></th>\n",
       "      <th>Country or Area</th>\n",
       "      <th>Year</th>\n",
       "      <th>Value</th>\n",
       "      <th>Value Footnotes</th>\n",
       "    </tr>\n",
       "  </thead>\n",
       "  <tbody>\n",
       "    <tr>\n",
       "      <th>0</th>\n",
       "      <td>Afghanistan</td>\n",
       "      <td>2021</td>\n",
       "      <td>1517.016266</td>\n",
       "      <td>NaN</td>\n",
       "    </tr>\n",
       "    <tr>\n",
       "      <th>1</th>\n",
       "      <td>Afghanistan</td>\n",
       "      <td>2020</td>\n",
       "      <td>1968.341002</td>\n",
       "      <td>NaN</td>\n",
       "    </tr>\n",
       "    <tr>\n",
       "      <th>2</th>\n",
       "      <td>Afghanistan</td>\n",
       "      <td>2019</td>\n",
       "      <td>2079.921861</td>\n",
       "      <td>NaN</td>\n",
       "    </tr>\n",
       "    <tr>\n",
       "      <th>3</th>\n",
       "      <td>Afghanistan</td>\n",
       "      <td>2018</td>\n",
       "      <td>2060.698973</td>\n",
       "      <td>NaN</td>\n",
       "    </tr>\n",
       "    <tr>\n",
       "      <th>4</th>\n",
       "      <td>Afghanistan</td>\n",
       "      <td>2017</td>\n",
       "      <td>2096.093111</td>\n",
       "      <td>NaN</td>\n",
       "    </tr>\n",
       "  </tbody>\n",
       "</table>\n",
       "</div>"
      ],
      "text/plain": [
       "  Country or Area  Year        Value  Value Footnotes\n",
       "0     Afghanistan  2021  1517.016266              NaN\n",
       "1     Afghanistan  2020  1968.341002              NaN\n",
       "2     Afghanistan  2019  2079.921861              NaN\n",
       "3     Afghanistan  2018  2060.698973              NaN\n",
       "4     Afghanistan  2017  2096.093111              NaN"
      ]
     },
     "execution_count": 22,
     "metadata": {},
     "output_type": "execute_result"
    }
   ],
   "source": [
    "#Reading file\n",
    "gdp_df = pd.read_csv('../data/gdp_percapita.csv')\n",
    "\n",
    "#Top 5 rows\n",
    "gdp_df.head(5)"
   ]
  },
  {
   "cell_type": "code",
   "execution_count": 23,
   "id": "b69b6d57-f188-4344-9aed-72f461b1e83a",
   "metadata": {},
   "outputs": [
    {
     "data": {
      "text/html": [
       "<div>\n",
       "<style scoped>\n",
       "    .dataframe tbody tr th:only-of-type {\n",
       "        vertical-align: middle;\n",
       "    }\n",
       "\n",
       "    .dataframe tbody tr th {\n",
       "        vertical-align: top;\n",
       "    }\n",
       "\n",
       "    .dataframe thead th {\n",
       "        text-align: right;\n",
       "    }\n",
       "</style>\n",
       "<table border=\"1\" class=\"dataframe\">\n",
       "  <thead>\n",
       "    <tr style=\"text-align: right;\">\n",
       "      <th></th>\n",
       "      <th>Country or Area</th>\n",
       "      <th>Year</th>\n",
       "      <th>Value</th>\n",
       "      <th>Value Footnotes</th>\n",
       "    </tr>\n",
       "  </thead>\n",
       "  <tbody>\n",
       "    <tr>\n",
       "      <th>7657</th>\n",
       "      <td>Zimbabwe</td>\n",
       "      <td>1994</td>\n",
       "      <td>2670.106615</td>\n",
       "      <td>NaN</td>\n",
       "    </tr>\n",
       "    <tr>\n",
       "      <th>7658</th>\n",
       "      <td>Zimbabwe</td>\n",
       "      <td>1993</td>\n",
       "      <td>2458.783255</td>\n",
       "      <td>NaN</td>\n",
       "    </tr>\n",
       "    <tr>\n",
       "      <th>7659</th>\n",
       "      <td>Zimbabwe</td>\n",
       "      <td>1992</td>\n",
       "      <td>2468.278257</td>\n",
       "      <td>NaN</td>\n",
       "    </tr>\n",
       "    <tr>\n",
       "      <th>7660</th>\n",
       "      <td>Zimbabwe</td>\n",
       "      <td>1991</td>\n",
       "      <td>2781.787843</td>\n",
       "      <td>NaN</td>\n",
       "    </tr>\n",
       "    <tr>\n",
       "      <th>7661</th>\n",
       "      <td>Zimbabwe</td>\n",
       "      <td>1990</td>\n",
       "      <td>2704.757299</td>\n",
       "      <td>NaN</td>\n",
       "    </tr>\n",
       "  </tbody>\n",
       "</table>\n",
       "</div>"
      ],
      "text/plain": [
       "     Country or Area  Year        Value  Value Footnotes\n",
       "7657        Zimbabwe  1994  2670.106615              NaN\n",
       "7658        Zimbabwe  1993  2458.783255              NaN\n",
       "7659        Zimbabwe  1992  2468.278257              NaN\n",
       "7660        Zimbabwe  1991  2781.787843              NaN\n",
       "7661        Zimbabwe  1990  2704.757299              NaN"
      ]
     },
     "execution_count": 23,
     "metadata": {},
     "output_type": "execute_result"
    }
   ],
   "source": [
    "#Bottom 5 rows\n",
    "gdp_df.tail(5)"
   ]
  },
  {
   "cell_type": "markdown",
   "id": "0d47516f-6da6-4238-864a-4f867bb2e062",
   "metadata": {},
   "source": [
    "## Q5"
   ]
  },
  {
   "cell_type": "markdown",
   "id": "5e698813-07eb-4b13-8c06-2a7f4b9883f7",
   "metadata": {},
   "source": [
    "5. How many rows and columns are in `gdp_df`? What are the data types of each column?"
   ]
  },
  {
   "cell_type": "code",
   "execution_count": 27,
   "id": "96c13a9f-2c92-43fd-b4f3-405893869fbd",
   "metadata": {},
   "outputs": [
    {
     "name": "stdout",
     "output_type": "stream",
     "text": [
      "<class 'pandas.core.frame.DataFrame'>\n",
      "RangeIndex: 7662 entries, 0 to 7661\n",
      "Data columns (total 4 columns):\n",
      " #   Column           Non-Null Count  Dtype  \n",
      "---  ------           --------------  -----  \n",
      " 0   Country or Area  7662 non-null   object \n",
      " 1   Year             7662 non-null   int64  \n",
      " 2   Value            7662 non-null   float64\n",
      " 3   Value Footnotes  0 non-null      float64\n",
      "dtypes: float64(2), int64(1), object(1)\n",
      "memory usage: 239.6+ KB\n"
     ]
    }
   ],
   "source": [
    "#Basic info about dataset\n",
    "gdp_df.info()"
   ]
  },
  {
   "cell_type": "markdown",
   "id": "b7f812e0-108a-4ad6-9a5c-015c20ebf1d3",
   "metadata": {},
   "source": [
    "## Answer:\n",
    "Rows: 7662\n",
    "\n",
    "Columns: 4\n",
    "\n",
    "Data Types: object, integer, float, float"
   ]
  },
  {
   "cell_type": "markdown",
   "id": "924fe3be-abc7-41d3-b03f-0468bdda6238",
   "metadata": {},
   "source": [
    "## Q6"
   ]
  },
  {
   "cell_type": "markdown",
   "id": "ba2b5aef-9130-4a76-9d46-6ebfefe7cf8d",
   "metadata": {},
   "source": [
    "6. Drop the `Value Footnotes` column and rename the remaining three to 'Country', 'Year', and 'GDP_Per_Capita'."
   ]
  },
  {
   "cell_type": "code",
   "execution_count": 36,
   "id": "d465bb28-a04e-4643-9baf-953329169e67",
   "metadata": {},
   "outputs": [
    {
     "name": "stdout",
     "output_type": "stream",
     "text": [
      "Country or Area\n",
      "Hungary                      32\n",
      "Lebanon                      32\n",
      "Aruba                        32\n",
      "Tonga                        32\n",
      "Bhutan                       32\n",
      "Slovak Republic              31\n",
      "Kuwait                       31\n",
      "Turkmenistan                 31\n",
      "Cambodia                     30\n",
      "West Bank and Gaza           29\n",
      "Bosnia and Herzegovina       29\n",
      "Latvia                       28\n",
      "Israel                       28\n",
      "Estonia                      28\n",
      "Serbia                       28\n",
      "Lithuania                    28\n",
      "Iceland                      28\n",
      "Moldova                      28\n",
      "Maldives                     28\n",
      "Croatia                      28\n",
      "Slovenia                     28\n",
      "Small states                 26\n",
      "Montenegro                   26\n",
      "San Marino                   25\n",
      "Libya                        24\n",
      "Timor-Leste                  23\n",
      "Liberia                      23\n",
      "Other small states           23\n",
      "Qatar                        23\n",
      "Palau                        22\n",
      "CuraÃ§ao                     22\n",
      "SÃ£o TomÃ© and Principe      22\n",
      "Afghanistan                  20\n",
      "Nauru                        19\n",
      "Cayman Islands               16\n",
      "Kosovo                       15\n",
      "Sint Maarten (Dutch part)    14\n",
      "Turks and Caicos Islands     12\n",
      "Somalia                      10\n",
      "Djibouti                     10\n",
      "Name: count, dtype: int64\n"
     ]
    }
   ],
   "source": [
    "country = gdp_df['Country or Area'].value_counts().tail(40)\n",
    "print(country)"
   ]
  },
  {
   "cell_type": "markdown",
   "id": "f70461d4-06cc-48c0-9363-ccbf03043542",
   "metadata": {},
   "source": [
    "7. How many countries have data for all years? Which countries are missing many years of data? Look at the number of observations per year. What do you notice? \r",
    "?"
   ]
  },
  {
   "cell_type": "markdown",
   "id": "b00ca2e9-c6b0-4f70-95af-b2cb24b9d359",
   "metadata": {},
   "source": [
    "8. In this question, you're going to create some plots to show the distribution of GDP per capita for the year 2020. Go to the Python Graph Gallery (https://www.python-graph-gallery.com/) and look at the different types of plots under the Distribution section. Create a histogram, a density plot, a boxplot, and a violin plot. What do you notice when you look at these plots? How do the plots compare and what information can you get out of one type that you can't necessarily get out of the others?"
   ]
  },
  {
   "cell_type": "markdown",
   "id": "efe38030-6135-48f2-b0d6-89cdb78435a7",
   "metadata": {},
   "source": [
    "9. What was the median GDP per capita value in 2020?"
   ]
  },
  {
   "cell_type": "markdown",
   "id": "9186e3f8-3cfb-42e6-b35e-adef0f71f376",
   "metadata": {},
   "source": [
    "10. For this question, you're going to create some visualizations to compare GDP per capita values for the years 1990, 2000, 2010, and 2020. Start by subsetting your data to just these 4 years into a new DataFrame named gdp_decades. Using this, create the following 4 plots:\n",
    "\t* A boxplot\n",
    "\t* A barplot (check out the Barplot with Seaborn section: https://www.python-graph-gallery.com/barplot/#Seaborn)\n",
    "\t* A scatterplot\n",
    "\t* A scatterplot with a trend line overlaid (see this regplot example: https://www.python-graph-gallery.com/42-custom-linear-regression-fit-seaborn)  \n",
    "Comment on what you observe has happened to GDP values over time and the relative strengths and weaknesses of each type of plot."
   ]
  },
  {
   "cell_type": "markdown",
   "id": "dafb4416-539c-4dc6-a6dd-a9e6bf55e546",
   "metadata": {},
   "source": [
    "11. Which country was the first to have a GDP per capita greater than $100,000?"
   ]
  },
  {
   "cell_type": "markdown",
   "id": "e9c8a79e-ac96-4d8b-a5db-57debf22416c",
   "metadata": {},
   "source": [
    "12. Which country had the highest GDP per capita in 2020? Create a plot showing how this country's GDP per capita has changed over the timespan of the dataset."
   ]
  },
  {
   "cell_type": "markdown",
   "id": "9eca95b0-52a2-40ce-a47b-94a308348485",
   "metadata": {},
   "source": [
    "13. Which country had the lowest GDP per capita in 2020? Create a plot showing how this country's GDP per capita has changed over the timespan of the dataset. **Bonus question:** Is it true in general that coutries had a higher GDP per capita in 2020 than in 1990? Which countries had lower GDP per capita in 2020 than in 1990?"
   ]
  },
  {
   "cell_type": "markdown",
   "id": "ea21b206-1316-42c4-bbbc-c27802132907",
   "metadata": {},
   "source": [
    "14. Read in the internet use dataset into a DataFrame named `internet_df`. You will likely get errors when doing this. Check the arguments for the read_csv function to find ones that can help correct the errors (https://pandas.pydata.org/docs/reference/api/pandas.read_csv.html) Once you are able to read it in, take per a look at the top and bottom few rows to make sure that it has been read in correctly. Also, check the datatypes of the columns."
   ]
  },
  {
   "cell_type": "markdown",
   "id": "7452b3f2-d7e2-47e1-868f-2b634eedd535",
   "metadata": {},
   "source": [
    "15. Drop the `Value Footnotes` column and rename the remaining three to 'Country', 'Year', and 'Internet_Users_Pct'."
   ]
  },
  {
   "cell_type": "markdown",
   "id": "3d723041-4d7e-43fa-8efb-12d770f45333",
   "metadata": {},
   "source": [
    "16. Look at the number of observations in this dataset per year. What do you notice?"
   ]
  },
  {
   "cell_type": "markdown",
   "id": "16e494c8-b8a3-4d34-9fde-1d1cf2d05c88",
   "metadata": {},
   "source": [
    "17. What is the first year to have a non-zero internet users percentage value?"
   ]
  },
  {
   "cell_type": "markdown",
   "id": "57d02110-5815-419d-80a4-291ed9f401a9",
   "metadata": {},
   "source": [
    "18. How does the distribution of internet users percent differ for 2000 and 2014?"
   ]
  },
  {
   "cell_type": "markdown",
   "id": "47524a3e-8af8-401f-80e4-28a36dfac8f4",
   "metadata": {},
   "source": [
    "19. For how many countries was the percentage of internet users below 5% in 2014?"
   ]
  },
  {
   "cell_type": "markdown",
   "id": "2c4f2b69-7784-46fc-9dc3-04f87733e4aa",
   "metadata": {},
   "source": [
    "20. Merge the two DataFrames to one. Do this in a way that keeps **all rows** from each of the two DataFrames. Call the new DataFrame `gdp_and_internet_use`. Look at the first and last few rows to confirm that it merged correctly."
   ]
  },
  {
   "cell_type": "markdown",
   "id": "4163be0b-fe3d-44de-bb3f-c2e3916aa129",
   "metadata": {},
   "source": [
    "21. Find the three countries with the highest internet users percentage in 2014. Use a seaborn FacetGrid (https://seaborn.pydata.org/generated/seaborn.FacetGrid.html) to compare how the GDP per capita has changed over time for these three countries. What do you notice?"
   ]
  },
  {
   "cell_type": "markdown",
   "id": "ed241812-aa24-44ea-95b5-7bd311dbb9e2",
   "metadata": {},
   "source": [
    "22. Subset `gdp_and_internet_use` to just the year 2014. Save this as a new dataframe named `gdp_and_internet_use_2014`."
   ]
  },
  {
   "cell_type": "markdown",
   "id": "a837cbe4-cee4-4c67-8eba-f3f4e2340bb9",
   "metadata": {},
   "source": [
    "23. Create a plot which compares Internet Users Percentage and GDP per Capita for the year 2014. What do you notice from this plot? If you see any unusual points, investigate them."
   ]
  },
  {
   "cell_type": "markdown",
   "id": "6f604ff2-b2b0-4cf0-b521-6a4f92bafd2e",
   "metadata": {},
   "source": [
    "24. **Stretch Question:** Use the `qcut` function from pandas (https://pandas.pydata.org/docs/reference/api/pandas.qcut.html) to divide countries in `gdp_per_capita_2014` into three groups based on their GDP per capita values. Label these groups as \"Low\", \"Medium\", and \"High\". Put these labels in a new column, named \"GDP_group\"."
   ]
  },
  {
   "cell_type": "markdown",
   "id": "2524b1ed-1266-4814-9d92-0b5d6619171d",
   "metadata": {},
   "source": [
    "25. **Stretch Question:** How does the median internet users percentage compare for the three gdp groups?"
   ]
  },
  {
   "cell_type": "markdown",
   "id": "433c55e4-c169-4444-8e29-e13aeb2e5d73",
   "metadata": {},
   "source": [
    "## Bonus exercise:\n",
    "1.    Download another data set from the UN data (http://data.un.org/Explorer.aspx) to merge with your data and explore."
   ]
  },
  {
   "cell_type": "code",
   "execution_count": null,
   "id": "22a35e6f-ebf7-44b2-9e8a-92af10182c95",
   "metadata": {},
   "outputs": [],
   "source": []
  }
 ],
 "metadata": {
  "kernelspec": {
   "display_name": "Python 3 (ipykernel)",
   "language": "python",
   "name": "python3"
  },
  "language_info": {
   "codemirror_mode": {
    "name": "ipython",
    "version": 3
   },
   "file_extension": ".py",
   "mimetype": "text/x-python",
   "name": "python",
   "nbconvert_exporter": "python",
   "pygments_lexer": "ipython3",
   "version": "3.11.7"
  }
 },
 "nbformat": 4,
 "nbformat_minor": 5
}
