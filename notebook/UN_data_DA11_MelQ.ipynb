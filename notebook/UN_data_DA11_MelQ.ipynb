{
 "cells": [
  {
   "cell_type": "markdown",
   "id": "8fe5bc9c-cdea-40df-a457-c167b3586c90",
   "metadata": {},
   "source": [
    "### Packages:"
   ]
  },
  {
   "cell_type": "code",
   "execution_count": 1,
   "id": "f5b2879f-6f44-48c7-a970-397befa0fdc8",
   "metadata": {},
   "outputs": [],
   "source": [
    "import pandas as pd\n",
    "import numpy as np  \n",
    "import matplotlib.pyplot as plt  \n",
    "import seaborn as sns"
   ]
  },
  {
   "cell_type": "markdown",
   "id": "121cebd9-2637-4edf-8b5d-f728268bc163",
   "metadata": {},
   "source": [
    "# Instructions: "
   ]
  },
  {
   "cell_type": "markdown",
   "id": "a589e1eb-26ec-4b7b-8d7f-3a2408724681",
   "metadata": {},
   "source": [
    "1. Create a `data` folder in your local project repository.  \n",
    "2. Download these two CSV files and place them in the data folder:\n",
    "\n",
    "    a.\tGross Domestic Product (GDP) per capita http://data.un.org/Data.aspx?d=WDI&f=Indicator_Code%3aNY.GDP.PCAP.PP.KD **DO NOT APPLY ANY FILTERS**\n",
    "     - rename the file to `gdp_percapita.csv`\n",
    "     - open it with a text editor (**not excel**) and take a look\n",
    "\n",
    "    b.\tPercentage of Individuals using the Internet http://data.un.org/Data.aspx?d=ITU&f=ind1Code%3aI99H  **DO NOT APPLY ANY FILTERS**\n",
    "     - rename the file to `internet_use.csv`\n",
    "     - open it with a text editor (**not excel**) and take a look\n",
    "\n",
    "2.\tCreate a `notebooks` folder and launch a Jupyter Notebook in this folder. Give it a meaningful name.  \n",
    " - **IMPORTANT:**  You are likely to get errors along the way. When you do, read the errors to try to understand what is happening and how to correct it.\n",
    "  - Use markdown cells to record your answers to any questions asked in this exercise. On the menu bar, you can toggle the cell type from `Code` to `Markdown`.\n",
    "3.\tImport the required packages with their customary aliases as follows:\n",
    "\n",
    "    `import pandas as pd`   \n",
    "    `import numpy as np`  \n",
    "    `import matplotlib.pyplot as plt`  \n",
    "    `import seaborn as sns`"
   ]
  },
  {
   "cell_type": "markdown",
   "id": "9892825c-9119-495e-8f21-76e73e238ba5",
   "metadata": {},
   "source": [
    "# Questions: "
   ]
  },
  {
   "cell_type": "markdown",
   "id": "0bfa9d52-4f31-4985-bb94-6a09d7739c0e",
   "metadata": {},
   "source": [
    "## Q4"
   ]
  },
  {
   "cell_type": "markdown",
   "id": "185d8dc0-9562-4c00-81ea-2b43efee4761",
   "metadata": {},
   "source": [
    "4.\tUsing the pandas `read_csv()` method, read the GDP dataset into your notebook as a DataFrame called `gdp_df`. Take a look at the first few and last few rows to familiarize yourself with what is contained in this dataset.\n"
   ]
  },
  {
   "cell_type": "markdown",
   "id": "25b02c04-dfd2-477d-b4bc-1df539d1cc6e",
   "metadata": {},
   "source": [
    "## Answer:"
   ]
  },
  {
   "cell_type": "code",
   "execution_count": 2,
   "id": "1e74a2b9-3a87-401d-92c2-dd5f616a1c4a",
   "metadata": {},
   "outputs": [
    {
     "data": {
      "text/html": [
       "<div>\n",
       "<style scoped>\n",
       "    .dataframe tbody tr th:only-of-type {\n",
       "        vertical-align: middle;\n",
       "    }\n",
       "\n",
       "    .dataframe tbody tr th {\n",
       "        vertical-align: top;\n",
       "    }\n",
       "\n",
       "    .dataframe thead th {\n",
       "        text-align: right;\n",
       "    }\n",
       "</style>\n",
       "<table border=\"1\" class=\"dataframe\">\n",
       "  <thead>\n",
       "    <tr style=\"text-align: right;\">\n",
       "      <th></th>\n",
       "      <th>Country or Area</th>\n",
       "      <th>Year</th>\n",
       "      <th>Value</th>\n",
       "      <th>Value Footnotes</th>\n",
       "    </tr>\n",
       "  </thead>\n",
       "  <tbody>\n",
       "    <tr>\n",
       "      <th>0</th>\n",
       "      <td>Afghanistan</td>\n",
       "      <td>2021</td>\n",
       "      <td>1517.016266</td>\n",
       "      <td>NaN</td>\n",
       "    </tr>\n",
       "    <tr>\n",
       "      <th>1</th>\n",
       "      <td>Afghanistan</td>\n",
       "      <td>2020</td>\n",
       "      <td>1968.341002</td>\n",
       "      <td>NaN</td>\n",
       "    </tr>\n",
       "    <tr>\n",
       "      <th>2</th>\n",
       "      <td>Afghanistan</td>\n",
       "      <td>2019</td>\n",
       "      <td>2079.921861</td>\n",
       "      <td>NaN</td>\n",
       "    </tr>\n",
       "    <tr>\n",
       "      <th>3</th>\n",
       "      <td>Afghanistan</td>\n",
       "      <td>2018</td>\n",
       "      <td>2060.698973</td>\n",
       "      <td>NaN</td>\n",
       "    </tr>\n",
       "    <tr>\n",
       "      <th>4</th>\n",
       "      <td>Afghanistan</td>\n",
       "      <td>2017</td>\n",
       "      <td>2096.093111</td>\n",
       "      <td>NaN</td>\n",
       "    </tr>\n",
       "  </tbody>\n",
       "</table>\n",
       "</div>"
      ],
      "text/plain": [
       "  Country or Area  Year        Value  Value Footnotes\n",
       "0     Afghanistan  2021  1517.016266              NaN\n",
       "1     Afghanistan  2020  1968.341002              NaN\n",
       "2     Afghanistan  2019  2079.921861              NaN\n",
       "3     Afghanistan  2018  2060.698973              NaN\n",
       "4     Afghanistan  2017  2096.093111              NaN"
      ]
     },
     "execution_count": 2,
     "metadata": {},
     "output_type": "execute_result"
    }
   ],
   "source": [
    "#Reading file\n",
    "gdp_df = pd.read_csv('../data/gdp_percapita.csv')\n",
    "\n",
    "#Top 5 rows\n",
    "gdp_df.head(5)"
   ]
  },
  {
   "cell_type": "code",
   "execution_count": 3,
   "id": "b69b6d57-f188-4344-9aed-72f461b1e83a",
   "metadata": {},
   "outputs": [
    {
     "data": {
      "text/html": [
       "<div>\n",
       "<style scoped>\n",
       "    .dataframe tbody tr th:only-of-type {\n",
       "        vertical-align: middle;\n",
       "    }\n",
       "\n",
       "    .dataframe tbody tr th {\n",
       "        vertical-align: top;\n",
       "    }\n",
       "\n",
       "    .dataframe thead th {\n",
       "        text-align: right;\n",
       "    }\n",
       "</style>\n",
       "<table border=\"1\" class=\"dataframe\">\n",
       "  <thead>\n",
       "    <tr style=\"text-align: right;\">\n",
       "      <th></th>\n",
       "      <th>Country or Area</th>\n",
       "      <th>Year</th>\n",
       "      <th>Value</th>\n",
       "      <th>Value Footnotes</th>\n",
       "    </tr>\n",
       "  </thead>\n",
       "  <tbody>\n",
       "    <tr>\n",
       "      <th>7657</th>\n",
       "      <td>Zimbabwe</td>\n",
       "      <td>1994</td>\n",
       "      <td>2670.106615</td>\n",
       "      <td>NaN</td>\n",
       "    </tr>\n",
       "    <tr>\n",
       "      <th>7658</th>\n",
       "      <td>Zimbabwe</td>\n",
       "      <td>1993</td>\n",
       "      <td>2458.783255</td>\n",
       "      <td>NaN</td>\n",
       "    </tr>\n",
       "    <tr>\n",
       "      <th>7659</th>\n",
       "      <td>Zimbabwe</td>\n",
       "      <td>1992</td>\n",
       "      <td>2468.278257</td>\n",
       "      <td>NaN</td>\n",
       "    </tr>\n",
       "    <tr>\n",
       "      <th>7660</th>\n",
       "      <td>Zimbabwe</td>\n",
       "      <td>1991</td>\n",
       "      <td>2781.787843</td>\n",
       "      <td>NaN</td>\n",
       "    </tr>\n",
       "    <tr>\n",
       "      <th>7661</th>\n",
       "      <td>Zimbabwe</td>\n",
       "      <td>1990</td>\n",
       "      <td>2704.757299</td>\n",
       "      <td>NaN</td>\n",
       "    </tr>\n",
       "  </tbody>\n",
       "</table>\n",
       "</div>"
      ],
      "text/plain": [
       "     Country or Area  Year        Value  Value Footnotes\n",
       "7657        Zimbabwe  1994  2670.106615              NaN\n",
       "7658        Zimbabwe  1993  2458.783255              NaN\n",
       "7659        Zimbabwe  1992  2468.278257              NaN\n",
       "7660        Zimbabwe  1991  2781.787843              NaN\n",
       "7661        Zimbabwe  1990  2704.757299              NaN"
      ]
     },
     "execution_count": 3,
     "metadata": {},
     "output_type": "execute_result"
    }
   ],
   "source": [
    "#Bottom 5 rows\n",
    "gdp_df.tail(5)"
   ]
  },
  {
   "cell_type": "markdown",
   "id": "0d47516f-6da6-4238-864a-4f867bb2e062",
   "metadata": {},
   "source": [
    "## Q5"
   ]
  },
  {
   "cell_type": "markdown",
   "id": "5e698813-07eb-4b13-8c06-2a7f4b9883f7",
   "metadata": {},
   "source": [
    "5. How many rows and columns are in `gdp_df`? What are the data types of each column?"
   ]
  },
  {
   "cell_type": "code",
   "execution_count": 4,
   "id": "b81af55b-3619-4cd5-9f67-b3ea1c45dc41",
   "metadata": {},
   "outputs": [
    {
     "data": {
      "text/plain": [
       "(7662, 4)"
      ]
     },
     "execution_count": 4,
     "metadata": {},
     "output_type": "execute_result"
    }
   ],
   "source": [
    "#Number of Rows and Columns\n",
    "gdp_df.shape"
   ]
  },
  {
   "cell_type": "code",
   "execution_count": 5,
   "id": "96c13a9f-2c92-43fd-b4f3-405893869fbd",
   "metadata": {},
   "outputs": [
    {
     "name": "stdout",
     "output_type": "stream",
     "text": [
      "<class 'pandas.core.frame.DataFrame'>\n",
      "RangeIndex: 7662 entries, 0 to 7661\n",
      "Data columns (total 4 columns):\n",
      " #   Column           Non-Null Count  Dtype  \n",
      "---  ------           --------------  -----  \n",
      " 0   Country or Area  7662 non-null   object \n",
      " 1   Year             7662 non-null   int64  \n",
      " 2   Value            7662 non-null   float64\n",
      " 3   Value Footnotes  0 non-null      float64\n",
      "dtypes: float64(2), int64(1), object(1)\n",
      "memory usage: 239.6+ KB\n"
     ]
    }
   ],
   "source": [
    "#Basic info about dataset\n",
    "gdp_df.info()"
   ]
  },
  {
   "cell_type": "markdown",
   "id": "b7f812e0-108a-4ad6-9a5c-015c20ebf1d3",
   "metadata": {},
   "source": [
    "## Answer:\n",
    "Rows: 7662\n",
    "\n",
    "Columns: 4\n",
    "\n",
    "Data Types: object, integer, float, float"
   ]
  },
  {
   "cell_type": "markdown",
   "id": "924fe3be-abc7-41d3-b03f-0468bdda6238",
   "metadata": {},
   "source": [
    "## Q6"
   ]
  },
  {
   "cell_type": "markdown",
   "id": "ba2b5aef-9130-4a76-9d46-6ebfefe7cf8d",
   "metadata": {},
   "source": [
    "6. Drop the `Value Footnotes` column and rename the remaining three to 'Country', 'Year', and 'GDP_Per_Capita'."
   ]
  },
  {
   "cell_type": "markdown",
   "id": "0ecd6c52-f66c-40f2-8342-8cd811dc969f",
   "metadata": {},
   "source": [
    "## Answer"
   ]
  },
  {
   "cell_type": "code",
   "execution_count": 6,
   "id": "6d5dead6-9073-48f1-98ed-8886dc41f420",
   "metadata": {},
   "outputs": [
    {
     "data": {
      "text/html": [
       "<div>\n",
       "<style scoped>\n",
       "    .dataframe tbody tr th:only-of-type {\n",
       "        vertical-align: middle;\n",
       "    }\n",
       "\n",
       "    .dataframe tbody tr th {\n",
       "        vertical-align: top;\n",
       "    }\n",
       "\n",
       "    .dataframe thead th {\n",
       "        text-align: right;\n",
       "    }\n",
       "</style>\n",
       "<table border=\"1\" class=\"dataframe\">\n",
       "  <thead>\n",
       "    <tr style=\"text-align: right;\">\n",
       "      <th></th>\n",
       "      <th>Country</th>\n",
       "      <th>Year</th>\n",
       "      <th>GDP_Per_Capita</th>\n",
       "    </tr>\n",
       "  </thead>\n",
       "  <tbody>\n",
       "    <tr>\n",
       "      <th>0</th>\n",
       "      <td>Afghanistan</td>\n",
       "      <td>2021</td>\n",
       "      <td>1517.016266</td>\n",
       "    </tr>\n",
       "    <tr>\n",
       "      <th>1</th>\n",
       "      <td>Afghanistan</td>\n",
       "      <td>2020</td>\n",
       "      <td>1968.341002</td>\n",
       "    </tr>\n",
       "    <tr>\n",
       "      <th>2</th>\n",
       "      <td>Afghanistan</td>\n",
       "      <td>2019</td>\n",
       "      <td>2079.921861</td>\n",
       "    </tr>\n",
       "    <tr>\n",
       "      <th>3</th>\n",
       "      <td>Afghanistan</td>\n",
       "      <td>2018</td>\n",
       "      <td>2060.698973</td>\n",
       "    </tr>\n",
       "    <tr>\n",
       "      <th>4</th>\n",
       "      <td>Afghanistan</td>\n",
       "      <td>2017</td>\n",
       "      <td>2096.093111</td>\n",
       "    </tr>\n",
       "  </tbody>\n",
       "</table>\n",
       "</div>"
      ],
      "text/plain": [
       "       Country  Year  GDP_Per_Capita\n",
       "0  Afghanistan  2021     1517.016266\n",
       "1  Afghanistan  2020     1968.341002\n",
       "2  Afghanistan  2019     2079.921861\n",
       "3  Afghanistan  2018     2060.698973\n",
       "4  Afghanistan  2017     2096.093111"
      ]
     },
     "execution_count": 6,
     "metadata": {},
     "output_type": "execute_result"
    }
   ],
   "source": [
    "#Removed Values Footnotes column and renamed remaining columns\n",
    "gdp_df = (gdp_df\n",
    "          .drop(columns = ['Value Footnotes'])\n",
    "          .rename(columns = {'Country or Area':'Country', 'Year':'Year', 'Value':'GDP_Per_Capita'})\n",
    "         )\n",
    "gdp_df.head()"
   ]
  },
  {
   "cell_type": "markdown",
   "id": "a7304f61-f2a9-4f55-a4e7-5ef2dac7caec",
   "metadata": {},
   "source": [
    "## Q7"
   ]
  },
  {
   "cell_type": "markdown",
   "id": "522a16b0-4fd5-452b-be7b-a84a2a46483d",
   "metadata": {},
   "source": [
    "7. How many countries have data for all years? Which countries are missing many years of data? Look at the number of observations per year. What do you notice? \n",
    "?"
   ]
  },
  {
   "cell_type": "code",
   "execution_count": 7,
   "id": "f3806760-3f36-4506-8a5b-ac87a42c0f26",
   "metadata": {},
   "outputs": [
    {
     "data": {
      "text/plain": [
       "33"
      ]
     },
     "execution_count": 7,
     "metadata": {},
     "output_type": "execute_result"
    }
   ],
   "source": [
    "#count number of distinct years represented in the dataframe\n",
    "gdp_df.Year.nunique()"
   ]
  },
  {
   "cell_type": "code",
   "execution_count": 8,
   "id": "af62a94d-9b00-4e67-ba05-27e9df290fc3",
   "metadata": {},
   "outputs": [
    {
     "name": "stdout",
     "output_type": "stream",
     "text": [
      "Country\n",
      "Afghanistan                    20\n",
      "Africa Eastern and Southern    33\n",
      "Africa Western and Central     33\n",
      "Albania                        33\n",
      "Algeria                        33\n",
      "Name: Year, dtype: int64\n"
     ]
    }
   ],
   "source": [
    "#count the number of unique years grouped by country\n",
    "country_year_counts = gdp_df.groupby('Country')['Year'].nunique()\n",
    "print(country_year_counts.head())"
   ]
  },
  {
   "cell_type": "code",
   "execution_count": 9,
   "id": "23971b95-4490-4d93-a752-8d195867a46c",
   "metadata": {},
   "outputs": [],
   "source": [
    "#Separate out the countries/years with missing data\n",
    "countries_with_missing_data = country_year_counts[country_year_counts != gdp_df['Year'].nunique()].index"
   ]
  },
  {
   "cell_type": "code",
   "execution_count": 10,
   "id": "f1bf73f1-3fd1-498c-a30b-3b6401480efe",
   "metadata": {
    "scrolled": true
   },
   "outputs": [
    {
     "name": "stdout",
     "output_type": "stream",
     "text": [
      "['Afghanistan' 'Aruba' 'Bhutan' 'Bosnia and Herzegovina' 'Cambodia'\n",
      " 'Cayman Islands' 'Croatia' 'CuraÃ§ao' 'Djibouti' 'Estonia' 'Hungary'\n",
      " 'Iceland' 'Israel' 'Kosovo' 'Kuwait' 'Latvia' 'Lebanon' 'Liberia' 'Libya'\n",
      " 'Lithuania' 'Maldives' 'Moldova' 'Montenegro' 'Nauru'\n",
      " 'Other small states' 'Palau' 'Qatar' 'SÃ£o TomÃ© and Principe'\n",
      " 'San Marino' 'Serbia' 'Sint Maarten (Dutch part)' 'Slovak Republic'\n",
      " 'Slovenia' 'Small states' 'Somalia' 'Timor-Leste' 'Tonga' 'Turkmenistan'\n",
      " 'Turks and Caicos Islands' 'West Bank and Gaza']\n"
     ]
    }
   ],
   "source": [
    "#Filter the original table to noly include countries within the list of coutries_with_missing_data\n",
    "filtered_list = gdp_df[gdp_df['Country'].isin(countries_with_missing_data)] \n",
    "\n",
    "#redefine missing data variable to be filtered on unique countries, so the output will be a list\n",
    "countries_with_missing_data = filtered_list['Country'].unique()\n",
    "print(countries_with_missing_data)"
   ]
  },
  {
   "cell_type": "code",
   "execution_count": 11,
   "id": "ab992d8f-d481-4b02-bcda-7117c4cf4af3",
   "metadata": {},
   "outputs": [
    {
     "name": "stdout",
     "output_type": "stream",
     "text": [
      "40\n"
     ]
    }
   ],
   "source": [
    "#number of unique countries missing data\n",
    "print(len(countries_with_missing_data))"
   ]
  },
  {
   "cell_type": "code",
   "execution_count": 12,
   "id": "436739ed-7a7a-4350-80ea-48097af79f03",
   "metadata": {},
   "outputs": [
    {
     "data": {
      "text/html": [
       "<div>\n",
       "<style scoped>\n",
       "    .dataframe tbody tr th:only-of-type {\n",
       "        vertical-align: middle;\n",
       "    }\n",
       "\n",
       "    .dataframe tbody tr th {\n",
       "        vertical-align: top;\n",
       "    }\n",
       "\n",
       "    .dataframe thead th {\n",
       "        text-align: right;\n",
       "    }\n",
       "</style>\n",
       "<table border=\"1\" class=\"dataframe\">\n",
       "  <thead>\n",
       "    <tr style=\"text-align: right;\">\n",
       "      <th>Year</th>\n",
       "      <th>1990</th>\n",
       "      <th>1991</th>\n",
       "      <th>1992</th>\n",
       "      <th>1993</th>\n",
       "      <th>1994</th>\n",
       "      <th>1995</th>\n",
       "      <th>1996</th>\n",
       "      <th>1997</th>\n",
       "      <th>1998</th>\n",
       "      <th>1999</th>\n",
       "      <th>...</th>\n",
       "      <th>2013</th>\n",
       "      <th>2014</th>\n",
       "      <th>2015</th>\n",
       "      <th>2016</th>\n",
       "      <th>2017</th>\n",
       "      <th>2018</th>\n",
       "      <th>2019</th>\n",
       "      <th>2020</th>\n",
       "      <th>2021</th>\n",
       "      <th>2022</th>\n",
       "    </tr>\n",
       "    <tr>\n",
       "      <th>Country</th>\n",
       "      <th></th>\n",
       "      <th></th>\n",
       "      <th></th>\n",
       "      <th></th>\n",
       "      <th></th>\n",
       "      <th></th>\n",
       "      <th></th>\n",
       "      <th></th>\n",
       "      <th></th>\n",
       "      <th></th>\n",
       "      <th></th>\n",
       "      <th></th>\n",
       "      <th></th>\n",
       "      <th></th>\n",
       "      <th></th>\n",
       "      <th></th>\n",
       "      <th></th>\n",
       "      <th></th>\n",
       "      <th></th>\n",
       "      <th></th>\n",
       "      <th></th>\n",
       "    </tr>\n",
       "  </thead>\n",
       "  <tbody>\n",
       "    <tr>\n",
       "      <th>Afghanistan</th>\n",
       "      <td>0.000000</td>\n",
       "      <td>0.000000</td>\n",
       "      <td>0.000000</td>\n",
       "      <td>0.000000</td>\n",
       "      <td>0.000000</td>\n",
       "      <td>0.000000</td>\n",
       "      <td>0.000000</td>\n",
       "      <td>0.000000</td>\n",
       "      <td>0.000000</td>\n",
       "      <td>0.000000</td>\n",
       "      <td>...</td>\n",
       "      <td>2165.340915</td>\n",
       "      <td>2144.449634</td>\n",
       "      <td>2108.714173</td>\n",
       "      <td>2101.422187</td>\n",
       "      <td>2096.093111</td>\n",
       "      <td>2060.698973</td>\n",
       "      <td>2079.921861</td>\n",
       "      <td>1968.341002</td>\n",
       "      <td>1517.016266</td>\n",
       "      <td>0.000000</td>\n",
       "    </tr>\n",
       "    <tr>\n",
       "      <th>Africa Eastern and Southern</th>\n",
       "      <td>3037.297466</td>\n",
       "      <td>2955.642238</td>\n",
       "      <td>2823.940366</td>\n",
       "      <td>2737.731240</td>\n",
       "      <td>2715.131116</td>\n",
       "      <td>2764.305017</td>\n",
       "      <td>2838.692029</td>\n",
       "      <td>2886.566235</td>\n",
       "      <td>2867.960243</td>\n",
       "      <td>2873.553735</td>\n",
       "      <td>...</td>\n",
       "      <td>3593.299065</td>\n",
       "      <td>3642.875373</td>\n",
       "      <td>3658.533588</td>\n",
       "      <td>3654.578815</td>\n",
       "      <td>3659.059097</td>\n",
       "      <td>3661.360566</td>\n",
       "      <td>3648.220302</td>\n",
       "      <td>3455.023119</td>\n",
       "      <td>3519.174840</td>\n",
       "      <td>3553.913370</td>\n",
       "    </tr>\n",
       "    <tr>\n",
       "      <th>Africa Western and Central</th>\n",
       "      <td>2788.301039</td>\n",
       "      <td>2750.790764</td>\n",
       "      <td>2743.855561</td>\n",
       "      <td>2644.709683</td>\n",
       "      <td>2575.064177</td>\n",
       "      <td>2561.665446</td>\n",
       "      <td>2612.194795</td>\n",
       "      <td>2654.384927</td>\n",
       "      <td>2676.529845</td>\n",
       "      <td>2649.555854</td>\n",
       "      <td>...</td>\n",
       "      <td>4026.231916</td>\n",
       "      <td>4146.994622</td>\n",
       "      <td>4148.547272</td>\n",
       "      <td>4055.943254</td>\n",
       "      <td>4051.271199</td>\n",
       "      <td>4064.079894</td>\n",
       "      <td>4093.442853</td>\n",
       "      <td>3957.933804</td>\n",
       "      <td>4014.607965</td>\n",
       "      <td>4063.857691</td>\n",
       "    </tr>\n",
       "    <tr>\n",
       "      <th>Albania</th>\n",
       "      <td>4827.027705</td>\n",
       "      <td>3496.369626</td>\n",
       "      <td>3264.820757</td>\n",
       "      <td>3598.810267</td>\n",
       "      <td>3921.614970</td>\n",
       "      <td>4471.601702</td>\n",
       "      <td>4908.932392</td>\n",
       "      <td>4400.312754</td>\n",
       "      <td>4819.067832</td>\n",
       "      <td>5474.849914</td>\n",
       "      <td>...</td>\n",
       "      <td>11361.252492</td>\n",
       "      <td>11586.817446</td>\n",
       "      <td>11878.437602</td>\n",
       "      <td>12291.842060</td>\n",
       "      <td>12770.991863</td>\n",
       "      <td>13317.119264</td>\n",
       "      <td>13653.182207</td>\n",
       "      <td>13278.369769</td>\n",
       "      <td>14595.944386</td>\n",
       "      <td>15501.662931</td>\n",
       "    </tr>\n",
       "    <tr>\n",
       "      <th>Algeria</th>\n",
       "      <td>8828.874473</td>\n",
       "      <td>8517.376962</td>\n",
       "      <td>8471.527605</td>\n",
       "      <td>8109.883559</td>\n",
       "      <td>7869.270272</td>\n",
       "      <td>8013.123442</td>\n",
       "      <td>8195.860480</td>\n",
       "      <td>8147.878198</td>\n",
       "      <td>8435.035658</td>\n",
       "      <td>8584.071496</td>\n",
       "      <td>...</td>\n",
       "      <td>11360.637612</td>\n",
       "      <td>11561.259795</td>\n",
       "      <td>11751.634119</td>\n",
       "      <td>11888.322967</td>\n",
       "      <td>11809.483033</td>\n",
       "      <td>11725.877741</td>\n",
       "      <td>11627.279918</td>\n",
       "      <td>10844.770764</td>\n",
       "      <td>11029.138782</td>\n",
       "      <td>11187.382303</td>\n",
       "    </tr>\n",
       "    <tr>\n",
       "      <th>...</th>\n",
       "      <td>...</td>\n",
       "      <td>...</td>\n",
       "      <td>...</td>\n",
       "      <td>...</td>\n",
       "      <td>...</td>\n",
       "      <td>...</td>\n",
       "      <td>...</td>\n",
       "      <td>...</td>\n",
       "      <td>...</td>\n",
       "      <td>...</td>\n",
       "      <td>...</td>\n",
       "      <td>...</td>\n",
       "      <td>...</td>\n",
       "      <td>...</td>\n",
       "      <td>...</td>\n",
       "      <td>...</td>\n",
       "      <td>...</td>\n",
       "      <td>...</td>\n",
       "      <td>...</td>\n",
       "      <td>...</td>\n",
       "      <td>...</td>\n",
       "    </tr>\n",
       "    <tr>\n",
       "      <th>Viet Nam</th>\n",
       "      <td>2099.394649</td>\n",
       "      <td>2177.473744</td>\n",
       "      <td>2317.266668</td>\n",
       "      <td>2455.508783</td>\n",
       "      <td>2623.720022</td>\n",
       "      <td>2825.016443</td>\n",
       "      <td>3039.938041</td>\n",
       "      <td>3239.681646</td>\n",
       "      <td>3378.904834</td>\n",
       "      <td>3495.097968</td>\n",
       "      <td>...</td>\n",
       "      <td>7257.729273</td>\n",
       "      <td>7641.909252</td>\n",
       "      <td>8091.090101</td>\n",
       "      <td>8545.702594</td>\n",
       "      <td>9050.688534</td>\n",
       "      <td>9636.012495</td>\n",
       "      <td>10252.004622</td>\n",
       "      <td>10450.622382</td>\n",
       "      <td>10628.219166</td>\n",
       "      <td>11396.531469</td>\n",
       "    </tr>\n",
       "    <tr>\n",
       "      <th>West Bank and Gaza</th>\n",
       "      <td>0.000000</td>\n",
       "      <td>0.000000</td>\n",
       "      <td>0.000000</td>\n",
       "      <td>0.000000</td>\n",
       "      <td>3951.205493</td>\n",
       "      <td>4047.128488</td>\n",
       "      <td>3916.925775</td>\n",
       "      <td>4294.746098</td>\n",
       "      <td>4786.480236</td>\n",
       "      <td>5052.064072</td>\n",
       "      <td>...</td>\n",
       "      <td>6118.257181</td>\n",
       "      <td>5967.073437</td>\n",
       "      <td>6048.976597</td>\n",
       "      <td>6438.933640</td>\n",
       "      <td>6401.740891</td>\n",
       "      <td>6318.210068</td>\n",
       "      <td>6245.448697</td>\n",
       "      <td>5402.538773</td>\n",
       "      <td>5641.044400</td>\n",
       "      <td>5722.409175</td>\n",
       "    </tr>\n",
       "    <tr>\n",
       "      <th>World</th>\n",
       "      <td>9705.981267</td>\n",
       "      <td>9669.677060</td>\n",
       "      <td>9665.890260</td>\n",
       "      <td>9675.232260</td>\n",
       "      <td>9799.764965</td>\n",
       "      <td>9957.172695</td>\n",
       "      <td>10179.565344</td>\n",
       "      <td>10424.112458</td>\n",
       "      <td>10532.457767</td>\n",
       "      <td>10754.895302</td>\n",
       "      <td>...</td>\n",
       "      <td>14801.332173</td>\n",
       "      <td>15120.730322</td>\n",
       "      <td>15442.986012</td>\n",
       "      <td>15762.038311</td>\n",
       "      <td>16170.193777</td>\n",
       "      <td>16573.992656</td>\n",
       "      <td>16864.894576</td>\n",
       "      <td>16204.169107</td>\n",
       "      <td>17055.357429</td>\n",
       "      <td>17485.934316</td>\n",
       "    </tr>\n",
       "    <tr>\n",
       "      <th>Zambia</th>\n",
       "      <td>2290.039226</td>\n",
       "      <td>2232.837441</td>\n",
       "      <td>2141.504615</td>\n",
       "      <td>2232.710379</td>\n",
       "      <td>1991.185925</td>\n",
       "      <td>1999.356842</td>\n",
       "      <td>2071.708828</td>\n",
       "      <td>2096.294593</td>\n",
       "      <td>2034.897183</td>\n",
       "      <td>2074.453663</td>\n",
       "      <td>...</td>\n",
       "      <td>3330.876903</td>\n",
       "      <td>3375.941270</td>\n",
       "      <td>3365.379259</td>\n",
       "      <td>3384.268144</td>\n",
       "      <td>3395.479686</td>\n",
       "      <td>3425.948936</td>\n",
       "      <td>3372.358980</td>\n",
       "      <td>3183.650773</td>\n",
       "      <td>3236.788981</td>\n",
       "      <td>3298.142890</td>\n",
       "    </tr>\n",
       "    <tr>\n",
       "      <th>Zimbabwe</th>\n",
       "      <td>2704.757299</td>\n",
       "      <td>2781.787843</td>\n",
       "      <td>2468.278257</td>\n",
       "      <td>2458.783255</td>\n",
       "      <td>2670.106615</td>\n",
       "      <td>2641.378271</td>\n",
       "      <td>2867.026043</td>\n",
       "      <td>2896.147308</td>\n",
       "      <td>2931.725144</td>\n",
       "      <td>2866.032886</td>\n",
       "      <td>...</td>\n",
       "      <td>2333.644532</td>\n",
       "      <td>2316.954536</td>\n",
       "      <td>2313.878553</td>\n",
       "      <td>2286.623549</td>\n",
       "      <td>2331.780833</td>\n",
       "      <td>2399.621551</td>\n",
       "      <td>2203.396810</td>\n",
       "      <td>1990.319419</td>\n",
       "      <td>2115.144555</td>\n",
       "      <td>2143.237574</td>\n",
       "    </tr>\n",
       "  </tbody>\n",
       "</table>\n",
       "<p>242 rows × 33 columns</p>\n",
       "</div>"
      ],
      "text/plain": [
       "Year                                1990         1991         1992  \\\n",
       "Country                                                              \n",
       "Afghanistan                     0.000000     0.000000     0.000000   \n",
       "Africa Eastern and Southern  3037.297466  2955.642238  2823.940366   \n",
       "Africa Western and Central   2788.301039  2750.790764  2743.855561   \n",
       "Albania                      4827.027705  3496.369626  3264.820757   \n",
       "Algeria                      8828.874473  8517.376962  8471.527605   \n",
       "...                                  ...          ...          ...   \n",
       "Viet Nam                     2099.394649  2177.473744  2317.266668   \n",
       "West Bank and Gaza              0.000000     0.000000     0.000000   \n",
       "World                        9705.981267  9669.677060  9665.890260   \n",
       "Zambia                       2290.039226  2232.837441  2141.504615   \n",
       "Zimbabwe                     2704.757299  2781.787843  2468.278257   \n",
       "\n",
       "Year                                1993         1994         1995  \\\n",
       "Country                                                              \n",
       "Afghanistan                     0.000000     0.000000     0.000000   \n",
       "Africa Eastern and Southern  2737.731240  2715.131116  2764.305017   \n",
       "Africa Western and Central   2644.709683  2575.064177  2561.665446   \n",
       "Albania                      3598.810267  3921.614970  4471.601702   \n",
       "Algeria                      8109.883559  7869.270272  8013.123442   \n",
       "...                                  ...          ...          ...   \n",
       "Viet Nam                     2455.508783  2623.720022  2825.016443   \n",
       "West Bank and Gaza              0.000000  3951.205493  4047.128488   \n",
       "World                        9675.232260  9799.764965  9957.172695   \n",
       "Zambia                       2232.710379  1991.185925  1999.356842   \n",
       "Zimbabwe                     2458.783255  2670.106615  2641.378271   \n",
       "\n",
       "Year                                 1996          1997          1998  \\\n",
       "Country                                                                 \n",
       "Afghanistan                      0.000000      0.000000      0.000000   \n",
       "Africa Eastern and Southern   2838.692029   2886.566235   2867.960243   \n",
       "Africa Western and Central    2612.194795   2654.384927   2676.529845   \n",
       "Albania                       4908.932392   4400.312754   4819.067832   \n",
       "Algeria                       8195.860480   8147.878198   8435.035658   \n",
       "...                                   ...           ...           ...   \n",
       "Viet Nam                      3039.938041   3239.681646   3378.904834   \n",
       "West Bank and Gaza            3916.925775   4294.746098   4786.480236   \n",
       "World                        10179.565344  10424.112458  10532.457767   \n",
       "Zambia                        2071.708828   2096.294593   2034.897183   \n",
       "Zimbabwe                      2867.026043   2896.147308   2931.725144   \n",
       "\n",
       "Year                                 1999  ...          2013          2014  \\\n",
       "Country                                    ...                               \n",
       "Afghanistan                      0.000000  ...   2165.340915   2144.449634   \n",
       "Africa Eastern and Southern   2873.553735  ...   3593.299065   3642.875373   \n",
       "Africa Western and Central    2649.555854  ...   4026.231916   4146.994622   \n",
       "Albania                       5474.849914  ...  11361.252492  11586.817446   \n",
       "Algeria                       8584.071496  ...  11360.637612  11561.259795   \n",
       "...                                   ...  ...           ...           ...   \n",
       "Viet Nam                      3495.097968  ...   7257.729273   7641.909252   \n",
       "West Bank and Gaza            5052.064072  ...   6118.257181   5967.073437   \n",
       "World                        10754.895302  ...  14801.332173  15120.730322   \n",
       "Zambia                        2074.453663  ...   3330.876903   3375.941270   \n",
       "Zimbabwe                      2866.032886  ...   2333.644532   2316.954536   \n",
       "\n",
       "Year                                 2015          2016          2017  \\\n",
       "Country                                                                 \n",
       "Afghanistan                   2108.714173   2101.422187   2096.093111   \n",
       "Africa Eastern and Southern   3658.533588   3654.578815   3659.059097   \n",
       "Africa Western and Central    4148.547272   4055.943254   4051.271199   \n",
       "Albania                      11878.437602  12291.842060  12770.991863   \n",
       "Algeria                      11751.634119  11888.322967  11809.483033   \n",
       "...                                   ...           ...           ...   \n",
       "Viet Nam                      8091.090101   8545.702594   9050.688534   \n",
       "West Bank and Gaza            6048.976597   6438.933640   6401.740891   \n",
       "World                        15442.986012  15762.038311  16170.193777   \n",
       "Zambia                        3365.379259   3384.268144   3395.479686   \n",
       "Zimbabwe                      2313.878553   2286.623549   2331.780833   \n",
       "\n",
       "Year                                 2018          2019          2020  \\\n",
       "Country                                                                 \n",
       "Afghanistan                   2060.698973   2079.921861   1968.341002   \n",
       "Africa Eastern and Southern   3661.360566   3648.220302   3455.023119   \n",
       "Africa Western and Central    4064.079894   4093.442853   3957.933804   \n",
       "Albania                      13317.119264  13653.182207  13278.369769   \n",
       "Algeria                      11725.877741  11627.279918  10844.770764   \n",
       "...                                   ...           ...           ...   \n",
       "Viet Nam                      9636.012495  10252.004622  10450.622382   \n",
       "West Bank and Gaza            6318.210068   6245.448697   5402.538773   \n",
       "World                        16573.992656  16864.894576  16204.169107   \n",
       "Zambia                        3425.948936   3372.358980   3183.650773   \n",
       "Zimbabwe                      2399.621551   2203.396810   1990.319419   \n",
       "\n",
       "Year                                 2021          2022  \n",
       "Country                                                  \n",
       "Afghanistan                   1517.016266      0.000000  \n",
       "Africa Eastern and Southern   3519.174840   3553.913370  \n",
       "Africa Western and Central    4014.607965   4063.857691  \n",
       "Albania                      14595.944386  15501.662931  \n",
       "Algeria                      11029.138782  11187.382303  \n",
       "...                                   ...           ...  \n",
       "Viet Nam                     10628.219166  11396.531469  \n",
       "West Bank and Gaza            5641.044400   5722.409175  \n",
       "World                        17055.357429  17485.934316  \n",
       "Zambia                        3236.788981   3298.142890  \n",
       "Zimbabwe                      2115.144555   2143.237574  \n",
       "\n",
       "[242 rows x 33 columns]"
      ]
     },
     "execution_count": 12,
     "metadata": {},
     "output_type": "execute_result"
    }
   ],
   "source": [
    "#Can also do a pivot table to show details\n",
    "gdp_df.pivot_table(values=\"GDP_Per_Capita\", index=\"Country\", columns=\"Year\", fill_value=0)"
   ]
  },
  {
   "cell_type": "markdown",
   "id": "61101a7e-8fc1-442f-84d9-c2f329448236",
   "metadata": {},
   "source": [
    "## Answer"
   ]
  },
  {
   "cell_type": "markdown",
   "id": "98c14243-b749-4237-a158-f339f6659b6e",
   "metadata": {},
   "source": [
    "Observations:\n",
    "There are 242 rows with missing gdp data, but only 40 unique countries (or areas) with missing data"
   ]
  },
  {
   "cell_type": "markdown",
   "id": "9c67e723-0d3f-4096-8d53-59ab2bf90bc8",
   "metadata": {},
   "source": [
    "## Q8"
   ]
  },
  {
   "cell_type": "markdown",
   "id": "b00ca2e9-c6b0-4f70-95af-b2cb24b9d359",
   "metadata": {},
   "source": [
    "8. In this question, you're going to create some plots to show the distribution of GDP per capita for the year 2020. Go to the Python Graph Gallery (https://www.python-graph-gallery.com/) and look at the different types of plots under the Distribution section. Create a histogram, a density plot, a boxplot, and a violin plot. What do you notice when you look at these plots? How do the plots compare and what information can you get out of one type that you can't necessarily get out of the others?"
   ]
  },
  {
   "cell_type": "code",
   "execution_count": 13,
   "id": "5179caa9-572f-4700-9a0f-6f1204fd0087",
   "metadata": {},
   "outputs": [
    {
     "name": "stderr",
     "output_type": "stream",
     "text": [
      "C:\\Users\\mquar\\anaconda3\\Lib\\site-packages\\seaborn\\_oldcore.py:1119: FutureWarning: use_inf_as_na option is deprecated and will be removed in a future version. Convert inf values to NaN before operating instead.\n",
      "  with pd.option_context('mode.use_inf_as_na', True):\n"
     ]
    },
    {
     "data": {
      "text/plain": [
       "<seaborn.axisgrid.FacetGrid at 0x200334c7810>"
      ]
     },
     "execution_count": 13,
     "metadata": {},
     "output_type": "execute_result"
    },
    {
     "data": {
      "image/png": "[encoded data removed]",
      "text/plain": [
       "<Figure size 500x500 with 1 Axes>"
      ]
     },
     "metadata": {},
     "output_type": "display_data"
    }
   ],
   "source": [
    "#histogram\n",
    "sns.displot(data=gdp_df[\"GDP_Per_Capita\"])\n"
   ]
  },
  {
   "cell_type": "code",
   "execution_count": 14,
   "id": "af16d015-4cbe-494b-a9b4-7d7df24f1f21",
   "metadata": {},
   "outputs": [
    {
     "data": {
      "image/png": "[encoded data removed]",
      "text/plain": [
       "<Figure size 500x500 with 1 Axes>"
      ]
     },
     "metadata": {},
     "output_type": "display_data"
    }
   ],
   "source": [
    "#another histogram\n",
    "values = gdp_df.GDP_Per_Capita\n",
    "fig, ax = plt.subplots(figsize = (5, 5))\n",
    "ax.hist(values, bins=5);"
   ]
  },
  {
   "cell_type": "code",
   "execution_count": 15,
   "id": "3326d764-dff4-4d57-a701-27f94d75bd16",
   "metadata": {},
   "outputs": [
    {
     "name": "stderr",
     "output_type": "stream",
     "text": [
      "C:\\Users\\mquar\\anaconda3\\Lib\\site-packages\\seaborn\\_oldcore.py:1119: FutureWarning: use_inf_as_na option is deprecated and will be removed in a future version. Convert inf values to NaN before operating instead.\n",
      "  with pd.option_context('mode.use_inf_as_na', True):\n"
     ]
    },
    {
     "data": {
      "text/plain": [
       "<Axes: xlabel='GDP_Per_Capita', ylabel='Density'>"
      ]
     },
     "execution_count": 15,
     "metadata": {},
     "output_type": "execute_result"
    },
    {
     "data": {
      "image/png": "[encoded data removed]",
      "text/plain": [
       "<Figure size 640x480 with 1 Axes>"
      ]
     },
     "metadata": {},
     "output_type": "display_data"
    }
   ],
   "source": [
    "#density chart\n",
    "sns.kdeplot(gdp_df['GDP_Per_Capita'])\n"
   ]
  },
  {
   "cell_type": "code",
   "execution_count": 16,
   "id": "bb4a58a9-551b-467f-a8ec-3b904cd178be",
   "metadata": {},
   "outputs": [
    {
     "data": {
      "text/plain": [
       "<Axes: xlabel='Year', ylabel='GDP_Per_Capita'>"
      ]
     },
     "execution_count": 16,
     "metadata": {},
     "output_type": "execute_result"
    },
    {
     "data": {
      "image/png": "[encoded data removed]",
      "text/plain": [
       "<Figure size 640x480 with 1 Axes>"
      ]
     },
     "metadata": {},
     "output_type": "display_data"
    }
   ],
   "source": [
    "#boxplot\n",
    "sns.boxplot( x=gdp_df[\"Year\"], y=gdp_df[\"GDP_Per_Capita\"] )"
   ]
  },
  {
   "cell_type": "code",
   "execution_count": 17,
   "id": "0dea965a-1e76-4f8f-973a-5f26f844865f",
   "metadata": {},
   "outputs": [
    {
     "data": {
      "image/png": "[encoded data removed]",
      "text/plain": [
       "<Figure size 640x480 with 1 Axes>"
      ]
     },
     "metadata": {},
     "output_type": "display_data"
    }
   ],
   "source": [
    "#violin plot - note: I tried switching the x and y axis to make labels more readable but it will not load when I do it that way\n",
    "sns.set_theme(style=\"darkgrid\")\n",
    "sns.violinplot(x=gdp_df[\"Year\"], y=gdp_df[\"GDP_Per_Capita\"], width=1)\n",
    "plt.show()"
   ]
  },
  {
   "cell_type": "markdown",
   "id": "01cf329c-c2da-43a3-af7c-acefcd523583",
   "metadata": {},
   "source": [
    "## Answer"
   ]
  },
  {
   "cell_type": "markdown",
   "id": "0dbca1f7-3f43-4ab4-b06c-dfd83745ef29",
   "metadata": {},
   "source": [
    "Observations: A large numeber of countries have low GDP per capita, although you can also tell by the boxplot and violin plot that the average gdp per capita grows year over year"
   ]
  },
  {
   "cell_type": "markdown",
   "id": "efe38030-6135-48f2-b0d6-89cdb78435a7",
   "metadata": {},
   "source": [
    "9. What was the median GDP per capita value in 2020?"
   ]
  },
  {
   "cell_type": "markdown",
   "id": "9186e3f8-3cfb-42e6-b35e-adef0f71f376",
   "metadata": {},
   "source": [
    "10. For this question, you're going to create some visualizations to compare GDP per capita values for the years 1990, 2000, 2010, and 2020. Start by subsetting your data to just these 4 years into a new DataFrame named gdp_decades. Using this, create the following 4 plots:\n",
    "\t* A boxplot\n",
    "\t* A barplot (check out the Barplot with Seaborn section: https://www.python-graph-gallery.com/barplot/#Seaborn)\n",
    "\t* A scatterplot\n",
    "\t* A scatterplot with a trend line overlaid (see this regplot example: https://www.python-graph-gallery.com/42-custom-linear-regression-fit-seaborn)  \n",
    "Comment on what you observe has happened to GDP values over time and the relative strengths and weaknesses of each type of plot."
   ]
  },
  {
   "cell_type": "markdown",
   "id": "dafb4416-539c-4dc6-a6dd-a9e6bf55e546",
   "metadata": {},
   "source": [
    "11. Which country was the first to have a GDP per capita greater than $100,000?"
   ]
  },
  {
   "cell_type": "markdown",
   "id": "e9c8a79e-ac96-4d8b-a5db-57debf22416c",
   "metadata": {},
   "source": [
    "12. Which country had the highest GDP per capita in 2020? Create a plot showing how this country's GDP per capita has changed over the timespan of the dataset."
   ]
  },
  {
   "cell_type": "markdown",
   "id": "9eca95b0-52a2-40ce-a47b-94a308348485",
   "metadata": {},
   "source": [
    "13. Which country had the lowest GDP per capita in 2020? Create a plot showing how this country's GDP per capita has changed over the timespan of the dataset. **Bonus question:** Is it true in general that coutries had a higher GDP per capita in 2020 than in 1990? Which countries had lower GDP per capita in 2020 than in 1990?"
   ]
  },
  {
   "cell_type": "markdown",
   "id": "ea21b206-1316-42c4-bbbc-c27802132907",
   "metadata": {},
   "source": [
    "14. Read in the internet use dataset into a DataFrame named `internet_df`. You will likely get errors when doing this. Check the arguments for the read_csv function to find ones that can help correct the errors (https://pandas.pydata.org/docs/reference/api/pandas.read_csv.html) Once you are able to read it in, take per a look at the top and bottom few rows to make sure that it has been read in correctly. Also, check the datatypes of the columns."
   ]
  },
  {
   "cell_type": "markdown",
   "id": "7452b3f2-d7e2-47e1-868f-2b634eedd535",
   "metadata": {},
   "source": [
    "15. Drop the `Value Footnotes` column and rename the remaining three to 'Country', 'Year', and 'Internet_Users_Pct'."
   ]
  },
  {
   "cell_type": "markdown",
   "id": "3d723041-4d7e-43fa-8efb-12d770f45333",
   "metadata": {},
   "source": [
    "16. Look at the number of observations in this dataset per year. What do you notice?"
   ]
  },
  {
   "cell_type": "markdown",
   "id": "16e494c8-b8a3-4d34-9fde-1d1cf2d05c88",
   "metadata": {},
   "source": [
    "17. What is the first year to have a non-zero internet users percentage value?"
   ]
  },
  {
   "cell_type": "markdown",
   "id": "57d02110-5815-419d-80a4-291ed9f401a9",
   "metadata": {},
   "source": [
    "18. How does the distribution of internet users percent differ for 2000 and 2014?"
   ]
  },
  {
   "cell_type": "markdown",
   "id": "47524a3e-8af8-401f-80e4-28a36dfac8f4",
   "metadata": {},
   "source": [
    "19. For how many countries was the percentage of internet users below 5% in 2014?"
   ]
  },
  {
   "cell_type": "markdown",
   "id": "2c4f2b69-7784-46fc-9dc3-04f87733e4aa",
   "metadata": {},
   "source": [
    "20. Merge the two DataFrames to one. Do this in a way that keeps **all rows** from each of the two DataFrames. Call the new DataFrame `gdp_and_internet_use`. Look at the first and last few rows to confirm that it merged correctly."
   ]
  },
  {
   "cell_type": "markdown",
   "id": "4163be0b-fe3d-44de-bb3f-c2e3916aa129",
   "metadata": {},
   "source": [
    "21. Find the three countries with the highest internet users percentage in 2014. Use a seaborn FacetGrid (https://seaborn.pydata.org/generated/seaborn.FacetGrid.html) to compare how the GDP per capita has changed over time for these three countries. What do you notice?"
   ]
  },
  {
   "cell_type": "markdown",
   "id": "ed241812-aa24-44ea-95b5-7bd311dbb9e2",
   "metadata": {},
   "source": [
    "22. Subset `gdp_and_internet_use` to just the year 2014. Save this as a new dataframe named `gdp_and_internet_use_2014`."
   ]
  },
  {
   "cell_type": "markdown",
   "id": "a837cbe4-cee4-4c67-8eba-f3f4e2340bb9",
   "metadata": {},
   "source": [
    "23. Create a plot which compares Internet Users Percentage and GDP per Capita for the year 2014. What do you notice from this plot? If you see any unusual points, investigate them."
   ]
  },
  {
   "cell_type": "markdown",
   "id": "6f604ff2-b2b0-4cf0-b521-6a4f92bafd2e",
   "metadata": {},
   "source": [
    "24. **Stretch Question:** Use the `qcut` function from pandas (https://pandas.pydata.org/docs/reference/api/pandas.qcut.html) to divide countries in `gdp_per_capita_2014` into three groups based on their GDP per capita values. Label these groups as \"Low\", \"Medium\", and \"High\". Put these labels in a new column, named \"GDP_group\"."
   ]
  },
  {
   "cell_type": "markdown",
   "id": "2524b1ed-1266-4814-9d92-0b5d6619171d",
   "metadata": {},
   "source": [
    "25. **Stretch Question:** How does the median internet users percentage compare for the three gdp groups?"
   ]
  },
  {
   "cell_type": "markdown",
   "id": "433c55e4-c169-4444-8e29-e13aeb2e5d73",
   "metadata": {},
   "source": [
    "## Bonus exercise:\n",
    "1.    Download another data set from the UN data (http://data.un.org/Explorer.aspx) to merge with your data and explore."
   ]
  },
  {
   "cell_type": "code",
   "execution_count": null,
   "id": "22a35e6f-ebf7-44b2-9e8a-92af10182c95",
   "metadata": {},
   "outputs": [],
   "source": []
  },
  {
   "cell_type": "code",
   "execution_count": null,
   "id": "4805157b-f755-4c14-a40f-64e661f315e9",
   "metadata": {},
   "outputs": [],
   "source": []
  },
  {
   "cell_type": "code",
   "execution_count": 18,
   "id": "0535bde7-92fb-428b-ac7e-8d44f1f90fa3",
   "metadata": {},
   "outputs": [
    {
     "name": "stdout",
     "output_type": "stream",
     "text": [
      "Country\n",
      "Least developed countries: UN classification    False\n",
      "Middle East & North Africa                      False\n",
      "Middle East & North Africa (IDA & IBRD)         False\n",
      "Middle income                                   False\n",
      "Mongolia                                        False\n",
      "                                                ...  \n",
      "Kosovo                                           True\n",
      "Sint Maarten (Dutch part)                        True\n",
      "Turks and Caicos Islands                         True\n",
      "Somalia                                          True\n",
      "Djibouti                                         True\n",
      "Name: count, Length: 242, dtype: bool\n"
     ]
    }
   ],
   "source": [
    "print(gdp_df['Country'].value_counts() != 33)"
   ]
  }
 ],
 "metadata": {
  "kernelspec": {
   "display_name": "Python 3 (ipykernel)",
   "language": "python",
   "name": "python3"
  },
  "language_info": {
   "codemirror_mode": {
    "name": "ipython",
    "version": 3
   },
   "file_extension": ".py",
   "mimetype": "text/x-python",
   "name": "python",
   "nbconvert_exporter": "python",
   "pygments_lexer": "ipython3",
   "version": "3.11.7"
  }
 },
 "nbformat": 4,
 "nbformat_minor": 5
}
